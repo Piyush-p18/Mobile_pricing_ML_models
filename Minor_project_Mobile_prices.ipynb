{
 "cells": [
  {
   "cell_type": "markdown",
   "id": "83d0ff51",
   "metadata": {},
   "source": [
    "# Mobile price minor project"
   ]
  },
  {
   "cell_type": "code",
   "execution_count": 56,
   "id": "6ec3015c",
   "metadata": {},
   "outputs": [],
   "source": [
    "import pandas as pd\n",
    "import numpy as np\n",
    "import matplotlib.pyplot as plt\n",
    "\n",
    "import warnings\n",
    "warnings.filterwarnings('ignore')"
   ]
  },
  {
   "cell_type": "code",
   "execution_count": 4,
   "id": "c4774fa0",
   "metadata": {},
   "outputs": [
    {
     "data": {
      "text/html": [
       "<div>\n",
       "<style scoped>\n",
       "    .dataframe tbody tr th:only-of-type {\n",
       "        vertical-align: middle;\n",
       "    }\n",
       "\n",
       "    .dataframe tbody tr th {\n",
       "        vertical-align: top;\n",
       "    }\n",
       "\n",
       "    .dataframe thead th {\n",
       "        text-align: right;\n",
       "    }\n",
       "</style>\n",
       "<table border=\"1\" class=\"dataframe\">\n",
       "  <thead>\n",
       "    <tr style=\"text-align: right;\">\n",
       "      <th></th>\n",
       "      <th>battery_power</th>\n",
       "      <th>blue</th>\n",
       "      <th>clock_speed</th>\n",
       "      <th>dual_sim</th>\n",
       "      <th>fc</th>\n",
       "      <th>four_g</th>\n",
       "      <th>int_memory</th>\n",
       "      <th>m_dep</th>\n",
       "      <th>mobile_wt</th>\n",
       "      <th>n_cores</th>\n",
       "      <th>...</th>\n",
       "      <th>px_height</th>\n",
       "      <th>px_width</th>\n",
       "      <th>ram</th>\n",
       "      <th>sc_h</th>\n",
       "      <th>sc_w</th>\n",
       "      <th>talk_time</th>\n",
       "      <th>three_g</th>\n",
       "      <th>touch_screen</th>\n",
       "      <th>wifi</th>\n",
       "      <th>price_range</th>\n",
       "    </tr>\n",
       "  </thead>\n",
       "  <tbody>\n",
       "    <tr>\n",
       "      <th>0</th>\n",
       "      <td>842</td>\n",
       "      <td>0</td>\n",
       "      <td>2.2</td>\n",
       "      <td>0</td>\n",
       "      <td>1</td>\n",
       "      <td>0</td>\n",
       "      <td>7</td>\n",
       "      <td>0.6</td>\n",
       "      <td>188</td>\n",
       "      <td>2</td>\n",
       "      <td>...</td>\n",
       "      <td>20</td>\n",
       "      <td>756</td>\n",
       "      <td>2549</td>\n",
       "      <td>9</td>\n",
       "      <td>7</td>\n",
       "      <td>19</td>\n",
       "      <td>0</td>\n",
       "      <td>0</td>\n",
       "      <td>1</td>\n",
       "      <td>1</td>\n",
       "    </tr>\n",
       "    <tr>\n",
       "      <th>1</th>\n",
       "      <td>1021</td>\n",
       "      <td>1</td>\n",
       "      <td>0.5</td>\n",
       "      <td>1</td>\n",
       "      <td>0</td>\n",
       "      <td>1</td>\n",
       "      <td>53</td>\n",
       "      <td>0.7</td>\n",
       "      <td>136</td>\n",
       "      <td>3</td>\n",
       "      <td>...</td>\n",
       "      <td>905</td>\n",
       "      <td>1988</td>\n",
       "      <td>2631</td>\n",
       "      <td>17</td>\n",
       "      <td>3</td>\n",
       "      <td>7</td>\n",
       "      <td>1</td>\n",
       "      <td>1</td>\n",
       "      <td>0</td>\n",
       "      <td>2</td>\n",
       "    </tr>\n",
       "    <tr>\n",
       "      <th>2</th>\n",
       "      <td>563</td>\n",
       "      <td>1</td>\n",
       "      <td>0.5</td>\n",
       "      <td>1</td>\n",
       "      <td>2</td>\n",
       "      <td>1</td>\n",
       "      <td>41</td>\n",
       "      <td>0.9</td>\n",
       "      <td>145</td>\n",
       "      <td>5</td>\n",
       "      <td>...</td>\n",
       "      <td>1263</td>\n",
       "      <td>1716</td>\n",
       "      <td>2603</td>\n",
       "      <td>11</td>\n",
       "      <td>2</td>\n",
       "      <td>9</td>\n",
       "      <td>1</td>\n",
       "      <td>1</td>\n",
       "      <td>0</td>\n",
       "      <td>2</td>\n",
       "    </tr>\n",
       "    <tr>\n",
       "      <th>3</th>\n",
       "      <td>615</td>\n",
       "      <td>1</td>\n",
       "      <td>2.5</td>\n",
       "      <td>0</td>\n",
       "      <td>0</td>\n",
       "      <td>0</td>\n",
       "      <td>10</td>\n",
       "      <td>0.8</td>\n",
       "      <td>131</td>\n",
       "      <td>6</td>\n",
       "      <td>...</td>\n",
       "      <td>1216</td>\n",
       "      <td>1786</td>\n",
       "      <td>2769</td>\n",
       "      <td>16</td>\n",
       "      <td>8</td>\n",
       "      <td>11</td>\n",
       "      <td>1</td>\n",
       "      <td>0</td>\n",
       "      <td>0</td>\n",
       "      <td>2</td>\n",
       "    </tr>\n",
       "    <tr>\n",
       "      <th>4</th>\n",
       "      <td>1821</td>\n",
       "      <td>1</td>\n",
       "      <td>1.2</td>\n",
       "      <td>0</td>\n",
       "      <td>13</td>\n",
       "      <td>1</td>\n",
       "      <td>44</td>\n",
       "      <td>0.6</td>\n",
       "      <td>141</td>\n",
       "      <td>2</td>\n",
       "      <td>...</td>\n",
       "      <td>1208</td>\n",
       "      <td>1212</td>\n",
       "      <td>1411</td>\n",
       "      <td>8</td>\n",
       "      <td>2</td>\n",
       "      <td>15</td>\n",
       "      <td>1</td>\n",
       "      <td>1</td>\n",
       "      <td>0</td>\n",
       "      <td>1</td>\n",
       "    </tr>\n",
       "  </tbody>\n",
       "</table>\n",
       "<p>5 rows × 21 columns</p>\n",
       "</div>"
      ],
      "text/plain": [
       "   battery_power  blue  clock_speed  dual_sim  fc  four_g  int_memory  m_dep  \\\n",
       "0            842     0          2.2         0   1       0           7    0.6   \n",
       "1           1021     1          0.5         1   0       1          53    0.7   \n",
       "2            563     1          0.5         1   2       1          41    0.9   \n",
       "3            615     1          2.5         0   0       0          10    0.8   \n",
       "4           1821     1          1.2         0  13       1          44    0.6   \n",
       "\n",
       "   mobile_wt  n_cores  ...  px_height  px_width   ram  sc_h  sc_w  talk_time  \\\n",
       "0        188        2  ...         20       756  2549     9     7         19   \n",
       "1        136        3  ...        905      1988  2631    17     3          7   \n",
       "2        145        5  ...       1263      1716  2603    11     2          9   \n",
       "3        131        6  ...       1216      1786  2769    16     8         11   \n",
       "4        141        2  ...       1208      1212  1411     8     2         15   \n",
       "\n",
       "   three_g  touch_screen  wifi  price_range  \n",
       "0        0             0     1            1  \n",
       "1        1             1     0            2  \n",
       "2        1             1     0            2  \n",
       "3        1             0     0            2  \n",
       "4        1             1     0            1  \n",
       "\n",
       "[5 rows x 21 columns]"
      ]
     },
     "execution_count": 4,
     "metadata": {},
     "output_type": "execute_result"
    }
   ],
   "source": [
    "df=pd.read_csv('mobile_price_range_data.csv')\n",
    "df.head()"
   ]
  },
  {
   "cell_type": "code",
   "execution_count": 6,
   "id": "592ad975",
   "metadata": {},
   "outputs": [
    {
     "data": {
      "text/plain": [
       "(2000, 21)"
      ]
     },
     "execution_count": 6,
     "metadata": {},
     "output_type": "execute_result"
    }
   ],
   "source": [
    "df.shape"
   ]
  },
  {
   "cell_type": "markdown",
   "id": "fcc5b559",
   "metadata": {},
   "source": [
    "### data preprocessing"
   ]
  },
  {
   "cell_type": "code",
   "execution_count": 7,
   "id": "80a6b3b1",
   "metadata": {},
   "outputs": [
    {
     "data": {
      "text/plain": [
       "battery_power    0\n",
       "blue             0\n",
       "clock_speed      0\n",
       "dual_sim         0\n",
       "fc               0\n",
       "four_g           0\n",
       "int_memory       0\n",
       "m_dep            0\n",
       "mobile_wt        0\n",
       "n_cores          0\n",
       "pc               0\n",
       "px_height        0\n",
       "px_width         0\n",
       "ram              0\n",
       "sc_h             0\n",
       "sc_w             0\n",
       "talk_time        0\n",
       "three_g          0\n",
       "touch_screen     0\n",
       "wifi             0\n",
       "price_range      0\n",
       "dtype: int64"
      ]
     },
     "execution_count": 7,
     "metadata": {},
     "output_type": "execute_result"
    }
   ],
   "source": [
    "df.isnull().sum()"
   ]
  },
  {
   "cell_type": "code",
   "execution_count": 8,
   "id": "2ffbf7b7",
   "metadata": {},
   "outputs": [
    {
     "data": {
      "text/plain": [
       "0"
      ]
     },
     "execution_count": 8,
     "metadata": {},
     "output_type": "execute_result"
    }
   ],
   "source": [
    "df.duplicated().sum()"
   ]
  },
  {
   "cell_type": "code",
   "execution_count": 9,
   "id": "4120cb7b",
   "metadata": {},
   "outputs": [
    {
     "data": {
      "text/plain": [
       "battery_power      int64\n",
       "blue               int64\n",
       "clock_speed      float64\n",
       "dual_sim           int64\n",
       "fc                 int64\n",
       "four_g             int64\n",
       "int_memory         int64\n",
       "m_dep            float64\n",
       "mobile_wt          int64\n",
       "n_cores            int64\n",
       "pc                 int64\n",
       "px_height          int64\n",
       "px_width           int64\n",
       "ram                int64\n",
       "sc_h               int64\n",
       "sc_w               int64\n",
       "talk_time          int64\n",
       "three_g            int64\n",
       "touch_screen       int64\n",
       "wifi               int64\n",
       "price_range        int64\n",
       "dtype: object"
      ]
     },
     "execution_count": 9,
     "metadata": {},
     "output_type": "execute_result"
    }
   ],
   "source": [
    "df.dtypes"
   ]
  },
  {
   "cell_type": "code",
   "execution_count": 11,
   "id": "1fc33037",
   "metadata": {},
   "outputs": [
    {
     "data": {
      "text/html": [
       "<div>\n",
       "<style scoped>\n",
       "    .dataframe tbody tr th:only-of-type {\n",
       "        vertical-align: middle;\n",
       "    }\n",
       "\n",
       "    .dataframe tbody tr th {\n",
       "        vertical-align: top;\n",
       "    }\n",
       "\n",
       "    .dataframe thead th {\n",
       "        text-align: right;\n",
       "    }\n",
       "</style>\n",
       "<table border=\"1\" class=\"dataframe\">\n",
       "  <thead>\n",
       "    <tr style=\"text-align: right;\">\n",
       "      <th></th>\n",
       "      <th>battery_power</th>\n",
       "      <th>blue</th>\n",
       "      <th>clock_speed</th>\n",
       "      <th>dual_sim</th>\n",
       "      <th>fc</th>\n",
       "      <th>four_g</th>\n",
       "      <th>int_memory</th>\n",
       "      <th>m_dep</th>\n",
       "      <th>mobile_wt</th>\n",
       "      <th>n_cores</th>\n",
       "      <th>...</th>\n",
       "      <th>px_height</th>\n",
       "      <th>px_width</th>\n",
       "      <th>ram</th>\n",
       "      <th>sc_h</th>\n",
       "      <th>sc_w</th>\n",
       "      <th>talk_time</th>\n",
       "      <th>three_g</th>\n",
       "      <th>touch_screen</th>\n",
       "      <th>wifi</th>\n",
       "      <th>price_range</th>\n",
       "    </tr>\n",
       "  </thead>\n",
       "  <tbody>\n",
       "    <tr>\n",
       "      <th>0</th>\n",
       "      <td>842</td>\n",
       "      <td>0</td>\n",
       "      <td>2.2</td>\n",
       "      <td>0</td>\n",
       "      <td>1</td>\n",
       "      <td>0</td>\n",
       "      <td>7</td>\n",
       "      <td>0.6</td>\n",
       "      <td>188</td>\n",
       "      <td>2</td>\n",
       "      <td>...</td>\n",
       "      <td>20</td>\n",
       "      <td>756</td>\n",
       "      <td>2549</td>\n",
       "      <td>9</td>\n",
       "      <td>7</td>\n",
       "      <td>19</td>\n",
       "      <td>0</td>\n",
       "      <td>0</td>\n",
       "      <td>1</td>\n",
       "      <td>1</td>\n",
       "    </tr>\n",
       "    <tr>\n",
       "      <th>1</th>\n",
       "      <td>1021</td>\n",
       "      <td>1</td>\n",
       "      <td>0.5</td>\n",
       "      <td>1</td>\n",
       "      <td>0</td>\n",
       "      <td>1</td>\n",
       "      <td>53</td>\n",
       "      <td>0.7</td>\n",
       "      <td>136</td>\n",
       "      <td>3</td>\n",
       "      <td>...</td>\n",
       "      <td>905</td>\n",
       "      <td>1988</td>\n",
       "      <td>2631</td>\n",
       "      <td>17</td>\n",
       "      <td>3</td>\n",
       "      <td>7</td>\n",
       "      <td>1</td>\n",
       "      <td>1</td>\n",
       "      <td>0</td>\n",
       "      <td>2</td>\n",
       "    </tr>\n",
       "    <tr>\n",
       "      <th>2</th>\n",
       "      <td>563</td>\n",
       "      <td>1</td>\n",
       "      <td>0.5</td>\n",
       "      <td>1</td>\n",
       "      <td>2</td>\n",
       "      <td>1</td>\n",
       "      <td>41</td>\n",
       "      <td>0.9</td>\n",
       "      <td>145</td>\n",
       "      <td>5</td>\n",
       "      <td>...</td>\n",
       "      <td>1263</td>\n",
       "      <td>1716</td>\n",
       "      <td>2603</td>\n",
       "      <td>11</td>\n",
       "      <td>2</td>\n",
       "      <td>9</td>\n",
       "      <td>1</td>\n",
       "      <td>1</td>\n",
       "      <td>0</td>\n",
       "      <td>2</td>\n",
       "    </tr>\n",
       "    <tr>\n",
       "      <th>3</th>\n",
       "      <td>615</td>\n",
       "      <td>1</td>\n",
       "      <td>2.5</td>\n",
       "      <td>0</td>\n",
       "      <td>0</td>\n",
       "      <td>0</td>\n",
       "      <td>10</td>\n",
       "      <td>0.8</td>\n",
       "      <td>131</td>\n",
       "      <td>6</td>\n",
       "      <td>...</td>\n",
       "      <td>1216</td>\n",
       "      <td>1786</td>\n",
       "      <td>2769</td>\n",
       "      <td>16</td>\n",
       "      <td>8</td>\n",
       "      <td>11</td>\n",
       "      <td>1</td>\n",
       "      <td>0</td>\n",
       "      <td>0</td>\n",
       "      <td>2</td>\n",
       "    </tr>\n",
       "    <tr>\n",
       "      <th>4</th>\n",
       "      <td>1821</td>\n",
       "      <td>1</td>\n",
       "      <td>1.2</td>\n",
       "      <td>0</td>\n",
       "      <td>13</td>\n",
       "      <td>1</td>\n",
       "      <td>44</td>\n",
       "      <td>0.6</td>\n",
       "      <td>141</td>\n",
       "      <td>2</td>\n",
       "      <td>...</td>\n",
       "      <td>1208</td>\n",
       "      <td>1212</td>\n",
       "      <td>1411</td>\n",
       "      <td>8</td>\n",
       "      <td>2</td>\n",
       "      <td>15</td>\n",
       "      <td>1</td>\n",
       "      <td>1</td>\n",
       "      <td>0</td>\n",
       "      <td>1</td>\n",
       "    </tr>\n",
       "  </tbody>\n",
       "</table>\n",
       "<p>5 rows × 21 columns</p>\n",
       "</div>"
      ],
      "text/plain": [
       "   battery_power  blue  clock_speed  dual_sim  fc  four_g  int_memory  m_dep  \\\n",
       "0            842     0          2.2         0   1       0           7    0.6   \n",
       "1           1021     1          0.5         1   0       1          53    0.7   \n",
       "2            563     1          0.5         1   2       1          41    0.9   \n",
       "3            615     1          2.5         0   0       0          10    0.8   \n",
       "4           1821     1          1.2         0  13       1          44    0.6   \n",
       "\n",
       "   mobile_wt  n_cores  ...  px_height  px_width   ram  sc_h  sc_w  talk_time  \\\n",
       "0        188        2  ...         20       756  2549     9     7         19   \n",
       "1        136        3  ...        905      1988  2631    17     3          7   \n",
       "2        145        5  ...       1263      1716  2603    11     2          9   \n",
       "3        131        6  ...       1216      1786  2769    16     8         11   \n",
       "4        141        2  ...       1208      1212  1411     8     2         15   \n",
       "\n",
       "   three_g  touch_screen  wifi  price_range  \n",
       "0        0             0     1            1  \n",
       "1        1             1     0            2  \n",
       "2        1             1     0            2  \n",
       "3        1             0     0            2  \n",
       "4        1             1     0            1  \n",
       "\n",
       "[5 rows x 21 columns]"
      ]
     },
     "execution_count": 11,
     "metadata": {},
     "output_type": "execute_result"
    }
   ],
   "source": [
    "df.head()"
   ]
  },
  {
   "cell_type": "code",
   "execution_count": 14,
   "id": "ecdefb57",
   "metadata": {},
   "outputs": [
    {
     "data": {
      "text/plain": [
       "1    500\n",
       "2    500\n",
       "3    500\n",
       "0    500\n",
       "Name: price_range, dtype: int64"
      ]
     },
     "execution_count": 14,
     "metadata": {},
     "output_type": "execute_result"
    }
   ],
   "source": [
    "df['price_range'].value_counts()"
   ]
  },
  {
   "cell_type": "code",
   "execution_count": 16,
   "id": "f6e8cd5e",
   "metadata": {},
   "outputs": [
    {
     "name": "stdout",
     "output_type": "stream",
     "text": [
      "<class 'pandas.core.frame.DataFrame'>\n",
      "<class 'pandas.core.series.Series'>\n",
      "(2000, 20)\n",
      "(2000,)\n"
     ]
    }
   ],
   "source": [
    "#dependent and independent variable\n",
    "x=df.drop('price_range', axis=1)\n",
    "y=df['price_range']\n",
    "print(type(x))\n",
    "print(type(y))\n",
    "print(x.shape)\n",
    "print(y.shape)"
   ]
  },
  {
   "cell_type": "code",
   "execution_count": 18,
   "id": "f8056aac",
   "metadata": {},
   "outputs": [
    {
     "data": {
      "text/html": [
       "<div>\n",
       "<style scoped>\n",
       "    .dataframe tbody tr th:only-of-type {\n",
       "        vertical-align: middle;\n",
       "    }\n",
       "\n",
       "    .dataframe tbody tr th {\n",
       "        vertical-align: top;\n",
       "    }\n",
       "\n",
       "    .dataframe thead th {\n",
       "        text-align: right;\n",
       "    }\n",
       "</style>\n",
       "<table border=\"1\" class=\"dataframe\">\n",
       "  <thead>\n",
       "    <tr style=\"text-align: right;\">\n",
       "      <th></th>\n",
       "      <th>battery_power</th>\n",
       "      <th>blue</th>\n",
       "      <th>clock_speed</th>\n",
       "      <th>dual_sim</th>\n",
       "      <th>fc</th>\n",
       "      <th>four_g</th>\n",
       "      <th>int_memory</th>\n",
       "      <th>m_dep</th>\n",
       "      <th>mobile_wt</th>\n",
       "      <th>n_cores</th>\n",
       "      <th>pc</th>\n",
       "      <th>px_height</th>\n",
       "      <th>px_width</th>\n",
       "      <th>ram</th>\n",
       "      <th>sc_h</th>\n",
       "      <th>sc_w</th>\n",
       "      <th>talk_time</th>\n",
       "      <th>three_g</th>\n",
       "      <th>touch_screen</th>\n",
       "      <th>wifi</th>\n",
       "    </tr>\n",
       "  </thead>\n",
       "  <tbody>\n",
       "    <tr>\n",
       "      <th>0</th>\n",
       "      <td>842</td>\n",
       "      <td>0</td>\n",
       "      <td>2.2</td>\n",
       "      <td>0</td>\n",
       "      <td>1</td>\n",
       "      <td>0</td>\n",
       "      <td>7</td>\n",
       "      <td>0.6</td>\n",
       "      <td>188</td>\n",
       "      <td>2</td>\n",
       "      <td>2</td>\n",
       "      <td>20</td>\n",
       "      <td>756</td>\n",
       "      <td>2549</td>\n",
       "      <td>9</td>\n",
       "      <td>7</td>\n",
       "      <td>19</td>\n",
       "      <td>0</td>\n",
       "      <td>0</td>\n",
       "      <td>1</td>\n",
       "    </tr>\n",
       "    <tr>\n",
       "      <th>1</th>\n",
       "      <td>1021</td>\n",
       "      <td>1</td>\n",
       "      <td>0.5</td>\n",
       "      <td>1</td>\n",
       "      <td>0</td>\n",
       "      <td>1</td>\n",
       "      <td>53</td>\n",
       "      <td>0.7</td>\n",
       "      <td>136</td>\n",
       "      <td>3</td>\n",
       "      <td>6</td>\n",
       "      <td>905</td>\n",
       "      <td>1988</td>\n",
       "      <td>2631</td>\n",
       "      <td>17</td>\n",
       "      <td>3</td>\n",
       "      <td>7</td>\n",
       "      <td>1</td>\n",
       "      <td>1</td>\n",
       "      <td>0</td>\n",
       "    </tr>\n",
       "    <tr>\n",
       "      <th>2</th>\n",
       "      <td>563</td>\n",
       "      <td>1</td>\n",
       "      <td>0.5</td>\n",
       "      <td>1</td>\n",
       "      <td>2</td>\n",
       "      <td>1</td>\n",
       "      <td>41</td>\n",
       "      <td>0.9</td>\n",
       "      <td>145</td>\n",
       "      <td>5</td>\n",
       "      <td>6</td>\n",
       "      <td>1263</td>\n",
       "      <td>1716</td>\n",
       "      <td>2603</td>\n",
       "      <td>11</td>\n",
       "      <td>2</td>\n",
       "      <td>9</td>\n",
       "      <td>1</td>\n",
       "      <td>1</td>\n",
       "      <td>0</td>\n",
       "    </tr>\n",
       "    <tr>\n",
       "      <th>3</th>\n",
       "      <td>615</td>\n",
       "      <td>1</td>\n",
       "      <td>2.5</td>\n",
       "      <td>0</td>\n",
       "      <td>0</td>\n",
       "      <td>0</td>\n",
       "      <td>10</td>\n",
       "      <td>0.8</td>\n",
       "      <td>131</td>\n",
       "      <td>6</td>\n",
       "      <td>9</td>\n",
       "      <td>1216</td>\n",
       "      <td>1786</td>\n",
       "      <td>2769</td>\n",
       "      <td>16</td>\n",
       "      <td>8</td>\n",
       "      <td>11</td>\n",
       "      <td>1</td>\n",
       "      <td>0</td>\n",
       "      <td>0</td>\n",
       "    </tr>\n",
       "    <tr>\n",
       "      <th>4</th>\n",
       "      <td>1821</td>\n",
       "      <td>1</td>\n",
       "      <td>1.2</td>\n",
       "      <td>0</td>\n",
       "      <td>13</td>\n",
       "      <td>1</td>\n",
       "      <td>44</td>\n",
       "      <td>0.6</td>\n",
       "      <td>141</td>\n",
       "      <td>2</td>\n",
       "      <td>14</td>\n",
       "      <td>1208</td>\n",
       "      <td>1212</td>\n",
       "      <td>1411</td>\n",
       "      <td>8</td>\n",
       "      <td>2</td>\n",
       "      <td>15</td>\n",
       "      <td>1</td>\n",
       "      <td>1</td>\n",
       "      <td>0</td>\n",
       "    </tr>\n",
       "  </tbody>\n",
       "</table>\n",
       "</div>"
      ],
      "text/plain": [
       "   battery_power  blue  clock_speed  dual_sim  fc  four_g  int_memory  m_dep  \\\n",
       "0            842     0          2.2         0   1       0           7    0.6   \n",
       "1           1021     1          0.5         1   0       1          53    0.7   \n",
       "2            563     1          0.5         1   2       1          41    0.9   \n",
       "3            615     1          2.5         0   0       0          10    0.8   \n",
       "4           1821     1          1.2         0  13       1          44    0.6   \n",
       "\n",
       "   mobile_wt  n_cores  pc  px_height  px_width   ram  sc_h  sc_w  talk_time  \\\n",
       "0        188        2   2         20       756  2549     9     7         19   \n",
       "1        136        3   6        905      1988  2631    17     3          7   \n",
       "2        145        5   6       1263      1716  2603    11     2          9   \n",
       "3        131        6   9       1216      1786  2769    16     8         11   \n",
       "4        141        2  14       1208      1212  1411     8     2         15   \n",
       "\n",
       "   three_g  touch_screen  wifi  \n",
       "0        0             0     1  \n",
       "1        1             1     0  \n",
       "2        1             1     0  \n",
       "3        1             0     0  \n",
       "4        1             1     0  "
      ]
     },
     "execution_count": 18,
     "metadata": {},
     "output_type": "execute_result"
    }
   ],
   "source": [
    "x.head()"
   ]
  },
  {
   "cell_type": "markdown",
   "id": "9582572b",
   "metadata": {},
   "source": [
    "### split the data into train and test "
   ]
  },
  {
   "cell_type": "code",
   "execution_count": 19,
   "id": "5bf03095",
   "metadata": {},
   "outputs": [],
   "source": [
    "from sklearn.model_selection import train_test_split"
   ]
  },
  {
   "cell_type": "code",
   "execution_count": 64,
   "id": "ae75b367",
   "metadata": {},
   "outputs": [
    {
     "name": "stdout",
     "output_type": "stream",
     "text": [
      "(1500, 20)\n",
      "(500, 20)\n",
      "(1500,)\n",
      "(500,)\n"
     ]
    }
   ],
   "source": [
    "x_train,x_test,y_train,y_test=train_test_split(x,y,test_size=0.25,random_state=30)\n",
    "print(x_train.shape)\n",
    "print(x_test.shape)\n",
    "print(y_train.shape)\n",
    "print(y_test.shape)"
   ]
  },
  {
   "cell_type": "markdown",
   "id": "737456e8",
   "metadata": {},
   "source": [
    "### Model 1 (Logistic Regression)"
   ]
  },
  {
   "cell_type": "code",
   "execution_count": 59,
   "id": "fd493142",
   "metadata": {},
   "outputs": [],
   "source": [
    "from sklearn.linear_model import LogisticRegression\n",
    "from sklearn.metrics import confusion_matrix,classification_report"
   ]
  },
  {
   "cell_type": "code",
   "execution_count": 65,
   "id": "ef32ba2a",
   "metadata": {},
   "outputs": [
    {
     "data": {
      "text/plain": [
       "LogisticRegression()"
      ]
     },
     "execution_count": 65,
     "metadata": {},
     "output_type": "execute_result"
    }
   ],
   "source": [
    "m1_log=LogisticRegression()\n",
    "m1_log.fit(x_train,y_train)"
   ]
  },
  {
   "cell_type": "code",
   "execution_count": 66,
   "id": "ab668457",
   "metadata": {},
   "outputs": [
    {
     "name": "stdout",
     "output_type": "stream",
     "text": [
      "train score:  0.6373333333333333\n",
      "Test score:  0.662\n"
     ]
    }
   ],
   "source": [
    "print('train score: ',m1_log.score(x_train,y_train))\n",
    "print('Test score: ',m1_log.score(x_test,y_test))"
   ]
  },
  {
   "cell_type": "code",
   "execution_count": 67,
   "id": "6e790f48",
   "metadata": {},
   "outputs": [
    {
     "name": "stdout",
     "output_type": "stream",
     "text": [
      "[3 0 2 2 2 0 3 3 2 1 2 0 2 0 2 1 1 2 3 1 2 0 2 0 3 3 1 0 1 1 3 1 1 2 1 3 1\n",
      " 3 2 3 1 0 2 0 3 2 0 1 3 3 2 0 1 1 0 2 2 1 2 0 0 2 1 1 1 0 0 1 2 0 2 0 2 3\n",
      " 1 3 1 1 3 3 1 3 0 0 2 3 3 0 0 3 3 3 1 0 2 3 2 0 3 1 3 1 0 0 3 0 3 1 0 1 3\n",
      " 3 0 1 3 3 0 0 1 1 0 3 2 3 2 1 3 3 1 0 2 2 3 0 0 0 0 0 3 3 1 2 3 2 1 2 1 2\n",
      " 3 3 0 0 3 0 3 2 2 2 2 2 3 3 3 1 2 0 2 0 1 1 2 3 2 0 3 3 0 3 0 3 3 0 3 3 2\n",
      " 1 1 3 1 1 1 2 1 2 0 0 1 3 2 0 1 3 3 0 3 1 0 2 1 1 1 0 3 3 3 3 1 1 3 3 2 3\n",
      " 1 0 3 0 3 2 3 2 3 1 2 2 3 0 0 2 2 1 2 1 0 3 2 3 0 0 3 0 1 0 3 2 0 3 2 0 1\n",
      " 0 0 0 0 1 3 3 3 2 1 1 1 1 2 3 2 2 3 1 2 3 3 3 0 2 0 2 3 3 2 2 1 2 3 3 3 0\n",
      " 0 0 2 1 3 2 0 1 2 1 1 3 0 1 3 0 3 3 2 0 1 2 0 1 3 1 1 2 2 3 0 2 3 2 3 3 3\n",
      " 3 3 2 2 3 1 3 0 1 0 2 1 3 3 2 1 3 0 2 3 3 3 0 0 2 0 0 0 2 3 3 0 0 3 2 1 2\n",
      " 2 0 1 0 3 2 1 3 2 1 2 1 1 1 3 3 1 0 2 3 0 2 0 0 0 1 3 0 2 3 2 0 3 2 3 1 0\n",
      " 0 2 3 2 0 2 2 0 3 3 3 1 2 0 1 1 1 3 1 2 1 1 3 0 3 0 1 3 3 3 2 3 1 0 3 1 0\n",
      " 2 2 1 1 1 3 0 0 2 1 1 3 3 2 0 1 3 0 0 1 3 1 3 1 3 0 2 1 2 1 2 3 3 0 1 3 2\n",
      " 2 0 0 2 1 2 3 3 3 1 3 1 1 3 2 0 2 1 1]\n"
     ]
    }
   ],
   "source": [
    "ypred_m1_log=m1_log.predict(x_test)\n",
    "print(ypred_m1_log)"
   ]
  },
  {
   "cell_type": "code",
   "execution_count": 68,
   "id": "3c8e8354",
   "metadata": {},
   "outputs": [
    {
     "name": "stdout",
     "output_type": "stream",
     "text": [
      "[[ 99  19   2   0]\n",
      " [ 18  75  28   5]\n",
      " [  0  22  52  40]\n",
      " [  0   2  33 105]]\n",
      "              precision    recall  f1-score   support\n",
      "\n",
      "           0       0.85      0.82      0.84       120\n",
      "           1       0.64      0.60      0.61       126\n",
      "           2       0.45      0.46      0.45       114\n",
      "           3       0.70      0.75      0.72       140\n",
      "\n",
      "    accuracy                           0.66       500\n",
      "   macro avg       0.66      0.66      0.66       500\n",
      "weighted avg       0.66      0.66      0.66       500\n",
      "\n"
     ]
    }
   ],
   "source": [
    "print(confusion_matrix(y_test,ypred_m1_log))\n",
    "print(classification_report(y_test,ypred_m1_log))"
   ]
  },
  {
   "cell_type": "markdown",
   "id": "caec9e14",
   "metadata": {},
   "source": [
    "#### Logistic Regression model have an accuracy of 66%"
   ]
  },
  {
   "cell_type": "markdown",
   "id": "62a7662a",
   "metadata": {},
   "source": [
    "### Model 2  (KNN_Algorithm) "
   ]
  },
  {
   "cell_type": "code",
   "execution_count": 72,
   "id": "216eabb2",
   "metadata": {},
   "outputs": [],
   "source": [
    "from sklearn.neighbors import KNeighborsClassifier"
   ]
  },
  {
   "cell_type": "code",
   "execution_count": 73,
   "id": "f30ff242",
   "metadata": {},
   "outputs": [
    {
     "data": {
      "text/plain": [
       "KNeighborsClassifier(n_neighbors=11)"
      ]
     },
     "execution_count": 73,
     "metadata": {},
     "output_type": "execute_result"
    }
   ],
   "source": [
    "m1_knn=KNeighborsClassifier(n_neighbors=11)\n",
    "m1_knn.fit(x_train,y_train)"
   ]
  },
  {
   "cell_type": "code",
   "execution_count": 74,
   "id": "718256e8",
   "metadata": {},
   "outputs": [
    {
     "name": "stdout",
     "output_type": "stream",
     "text": [
      "train score:  0.9493333333333334\n",
      "Test score:  0.942\n"
     ]
    }
   ],
   "source": [
    "print('train score: ',m1_knn.score(x_train,y_train))\n",
    "print('Test score: ',m1_knn.score(x_test,y_test))"
   ]
  },
  {
   "cell_type": "code",
   "execution_count": 75,
   "id": "1d8f5823",
   "metadata": {},
   "outputs": [
    {
     "name": "stdout",
     "output_type": "stream",
     "text": [
      "[3 0 1 1 2 1 3 3 2 1 1 0 2 0 3 1 0 2 3 1 3 0 3 0 3 3 1 0 1 0 3 0 2 2 1 3 1\n",
      " 3 2 3 2 1 2 0 3 3 1 0 3 2 2 0 3 2 0 2 3 1 1 0 0 3 1 0 1 0 0 1 3 0 1 0 2 3\n",
      " 1 2 1 1 3 3 0 3 0 0 2 3 3 0 0 3 3 3 2 1 1 3 2 0 3 0 2 1 0 0 3 0 3 1 1 2 3\n",
      " 1 0 1 2 3 0 1 2 1 1 3 2 2 2 1 3 2 1 0 3 2 2 0 0 1 0 1 3 3 1 2 3 2 1 1 0 3\n",
      " 3 2 0 1 3 0 3 3 3 2 1 2 1 3 3 1 1 0 3 0 1 1 3 3 1 0 2 2 0 3 0 2 2 0 2 3 2\n",
      " 1 2 3 1 1 1 0 1 3 0 0 1 3 2 1 0 3 3 0 3 1 0 2 1 2 1 1 3 3 3 3 0 0 3 3 3 2\n",
      " 1 1 3 0 2 3 2 3 3 1 3 2 2 0 0 3 3 1 0 1 0 3 1 2 0 1 3 0 0 0 3 2 0 2 3 0 0\n",
      " 0 0 1 0 1 2 3 3 2 2 1 1 1 2 3 1 3 2 3 2 3 1 2 0 2 1 2 2 3 2 1 1 1 3 2 3 0\n",
      " 0 1 1 1 3 1 0 1 1 0 1 3 0 0 3 0 3 2 3 0 1 2 0 1 3 1 0 2 1 3 0 1 3 2 3 3 2\n",
      " 3 3 2 3 2 2 2 0 2 0 1 0 3 3 2 1 2 0 2 2 3 2 0 0 2 0 0 0 3 2 2 0 0 3 3 1 2\n",
      " 2 0 1 0 2 2 1 3 2 1 1 2 0 2 2 3 1 0 2 3 0 2 0 0 0 2 3 0 2 3 2 1 1 3 3 0 0\n",
      " 0 3 3 2 1 3 1 0 2 3 3 1 3 0 1 2 1 3 1 1 1 0 2 0 3 0 1 2 3 2 1 3 2 0 3 2 0\n",
      " 3 3 1 1 1 3 0 0 1 2 1 3 2 2 0 1 2 0 0 2 2 1 1 1 2 0 1 0 2 2 1 3 3 0 1 3 2\n",
      " 2 0 1 2 1 2 2 3 3 0 3 2 1 2 2 0 2 1 1]\n"
     ]
    }
   ],
   "source": [
    "ypred_m1_knn=m1_knn.predict(x_test)\n",
    "print(ypred_m1_knn)"
   ]
  },
  {
   "cell_type": "code",
   "execution_count": 76,
   "id": "d3ab347a",
   "metadata": {},
   "outputs": [
    {
     "name": "stdout",
     "output_type": "stream",
     "text": [
      "[[118   2   0   0]\n",
      " [  3 119   4   0]\n",
      " [  0   4 105   5]\n",
      " [  0   0  11 129]]\n",
      "              precision    recall  f1-score   support\n",
      "\n",
      "           0       0.98      0.98      0.98       120\n",
      "           1       0.95      0.94      0.95       126\n",
      "           2       0.88      0.92      0.90       114\n",
      "           3       0.96      0.92      0.94       140\n",
      "\n",
      "    accuracy                           0.94       500\n",
      "   macro avg       0.94      0.94      0.94       500\n",
      "weighted avg       0.94      0.94      0.94       500\n",
      "\n"
     ]
    }
   ],
   "source": [
    "print(confusion_matrix(y_test,ypred_m1_knn))\n",
    "print(classification_report(y_test,ypred_m1_knn))"
   ]
  },
  {
   "cell_type": "markdown",
   "id": "e4fc3d0b",
   "metadata": {},
   "source": [
    "#### KNN model have an accuracy of 94%"
   ]
  },
  {
   "cell_type": "markdown",
   "id": "5e66bd71",
   "metadata": {},
   "source": [
    "### Model 3 (a) (SVM Model - Linear Kernel)"
   ]
  },
  {
   "cell_type": "code",
   "execution_count": 78,
   "id": "c67b1252",
   "metadata": {},
   "outputs": [],
   "source": [
    "from sklearn.svm import SVC"
   ]
  },
  {
   "cell_type": "code",
   "execution_count": 81,
   "id": "a0e1e7fe",
   "metadata": {},
   "outputs": [
    {
     "data": {
      "text/plain": [
       "SVC(C=10, kernel='linear')"
      ]
     },
     "execution_count": 81,
     "metadata": {},
     "output_type": "execute_result"
    }
   ],
   "source": [
    "m1_svc=SVC(kernel='linear',C=10)\n",
    "m1_svc.fit(x_train,y_train)"
   ]
  },
  {
   "cell_type": "code",
   "execution_count": 84,
   "id": "764f5265",
   "metadata": {},
   "outputs": [
    {
     "name": "stdout",
     "output_type": "stream",
     "text": [
      "train score:  0.9873333333333333\n",
      "Test score:  0.978\n"
     ]
    }
   ],
   "source": [
    "print('train score: ',m1_svc.score(x_train,y_train))\n",
    "print('Test score: ',m1_svc.score(x_test,y_test))"
   ]
  },
  {
   "cell_type": "code",
   "execution_count": 87,
   "id": "768adc37",
   "metadata": {},
   "outputs": [
    {
     "name": "stdout",
     "output_type": "stream",
     "text": [
      "[3 0 1 1 2 1 3 3 3 1 1 0 1 0 3 1 0 2 3 1 3 0 2 0 3 3 1 0 1 0 3 0 2 2 1 3 1\n",
      " 3 2 3 2 1 2 0 3 3 1 0 3 2 3 0 3 2 0 2 3 1 1 0 0 3 1 0 1 0 0 1 3 0 1 0 3 3\n",
      " 1 2 1 1 3 3 0 3 0 0 3 3 2 0 0 3 3 3 1 1 1 3 2 0 3 0 2 1 0 0 3 0 3 1 0 2 3\n",
      " 1 0 1 2 3 0 0 2 1 1 3 2 3 2 1 3 2 1 0 3 2 2 0 0 0 0 1 3 3 1 2 3 2 1 1 1 3\n",
      " 3 2 0 1 3 0 3 3 3 2 1 2 1 3 3 1 1 0 3 0 1 1 3 3 1 0 2 3 0 3 0 2 2 0 2 3 2\n",
      " 1 2 3 1 1 1 0 1 3 0 0 1 3 2 1 0 3 3 0 3 1 0 2 1 2 1 1 3 3 3 3 0 0 3 3 3 2\n",
      " 1 1 3 0 2 3 2 3 3 1 3 2 2 0 0 3 3 1 0 1 0 3 1 3 0 1 3 0 0 0 3 1 0 2 3 0 0\n",
      " 0 0 1 0 1 2 3 3 2 2 1 1 1 2 3 1 3 2 3 2 3 1 2 0 2 1 2 2 3 2 1 1 1 3 3 3 0\n",
      " 0 1 1 1 3 1 0 1 1 0 1 3 0 1 3 0 2 3 3 0 1 2 0 1 3 1 0 2 1 3 0 1 3 2 3 3 3\n",
      " 3 3 2 3 2 2 2 0 2 0 1 1 3 3 2 1 2 0 2 2 3 2 0 0 2 0 0 0 3 3 3 0 0 3 3 1 2\n",
      " 2 0 2 0 2 2 1 3 2 1 1 1 0 2 2 3 1 0 2 3 0 2 0 0 0 2 3 0 2 3 2 1 1 3 3 0 0\n",
      " 0 3 3 2 1 2 1 0 2 3 3 1 3 0 1 2 1 3 1 1 1 0 3 0 3 0 1 2 3 3 1 3 2 0 3 2 0\n",
      " 3 3 1 1 1 3 0 0 1 2 1 3 2 2 0 1 2 0 0 2 2 1 1 1 2 0 1 0 2 2 1 3 3 0 1 3 2\n",
      " 2 0 1 2 1 2 2 3 3 0 3 1 1 2 2 0 2 1 1]\n"
     ]
    }
   ],
   "source": [
    "ypred_m1_svc=m1_svc.predict(x_test)\n",
    "print(ypred_m1_svc)"
   ]
  },
  {
   "cell_type": "code",
   "execution_count": 88,
   "id": "e753f24d",
   "metadata": {},
   "outputs": [
    {
     "name": "stdout",
     "output_type": "stream",
     "text": [
      "[[120   0   0   0]\n",
      " [  1 125   0   0]\n",
      " [  0   4 105   5]\n",
      " [  0   0   1 139]]\n",
      "              precision    recall  f1-score   support\n",
      "\n",
      "           0       0.99      1.00      1.00       120\n",
      "           1       0.97      0.99      0.98       126\n",
      "           2       0.99      0.92      0.95       114\n",
      "           3       0.97      0.99      0.98       140\n",
      "\n",
      "    accuracy                           0.98       500\n",
      "   macro avg       0.98      0.98      0.98       500\n",
      "weighted avg       0.98      0.98      0.98       500\n",
      "\n"
     ]
    }
   ],
   "source": [
    "print(confusion_matrix(y_test,ypred_m1_svc))\n",
    "print(classification_report(y_test,ypred_m1_svc))"
   ]
  },
  {
   "cell_type": "markdown",
   "id": "e316c8dd",
   "metadata": {},
   "source": [
    "#### SVM model (Linear Kernel) have an accuracy of 98%"
   ]
  },
  {
   "cell_type": "markdown",
   "id": "bc287717",
   "metadata": {},
   "source": [
    "### Model 3 (b) (SVM Model - RBF Kernel)"
   ]
  },
  {
   "cell_type": "code",
   "execution_count": 90,
   "id": "764235c4",
   "metadata": {},
   "outputs": [
    {
     "data": {
      "text/plain": [
       "SVC(C=10)"
      ]
     },
     "execution_count": 90,
     "metadata": {},
     "output_type": "execute_result"
    }
   ],
   "source": [
    "m1_svc2=SVC(kernel='rbf',C=10)\n",
    "m1_svc2.fit(x_train,y_train)"
   ]
  },
  {
   "cell_type": "code",
   "execution_count": 91,
   "id": "5dfb1599",
   "metadata": {},
   "outputs": [
    {
     "name": "stdout",
     "output_type": "stream",
     "text": [
      "train score:  0.9653333333333334\n",
      "Test score:  0.964\n"
     ]
    }
   ],
   "source": [
    "print('train score: ',m1_svc2.score(x_train,y_train))\n",
    "print('Test score: ',m1_svc2.score(x_test,y_test))"
   ]
  },
  {
   "cell_type": "code",
   "execution_count": 92,
   "id": "54cba8f7",
   "metadata": {},
   "outputs": [
    {
     "name": "stdout",
     "output_type": "stream",
     "text": [
      "[3 0 1 1 2 1 3 3 3 1 1 0 1 0 3 1 0 2 3 1 3 0 2 0 3 3 1 0 1 0 3 0 2 2 1 3 1\n",
      " 3 2 3 2 1 2 0 3 3 1 0 3 2 3 0 3 2 0 2 3 1 1 0 0 3 1 0 1 0 0 1 3 0 1 0 3 3\n",
      " 1 2 1 1 3 3 0 3 0 0 3 3 2 0 0 3 3 3 1 1 1 3 2 0 3 0 2 1 0 0 3 0 3 1 0 2 3\n",
      " 1 0 1 2 3 0 0 2 1 1 3 2 3 2 1 3 2 1 0 3 2 2 0 0 0 0 1 3 3 1 2 3 2 1 1 1 3\n",
      " 3 2 0 1 3 0 3 3 3 2 1 2 1 3 3 1 1 0 3 0 1 1 3 3 1 0 2 3 0 3 0 2 2 0 2 3 2\n",
      " 1 2 3 1 1 1 0 1 3 0 0 1 3 2 1 0 3 3 0 3 1 0 2 1 2 1 1 3 3 3 3 0 0 3 3 3 2\n",
      " 1 1 3 0 2 3 2 3 3 1 3 2 2 0 0 3 3 1 0 1 0 3 1 3 0 1 3 0 0 0 3 1 0 2 3 0 0\n",
      " 0 0 1 0 1 2 3 3 2 2 1 1 1 2 3 1 3 2 3 2 3 1 2 0 2 1 2 2 3 2 1 1 1 3 3 3 0\n",
      " 0 1 1 1 3 1 0 1 1 0 1 3 0 1 3 0 2 3 3 0 1 2 0 1 3 1 0 2 1 3 0 1 3 2 3 3 3\n",
      " 3 3 2 3 2 2 2 0 2 0 1 1 3 3 2 1 2 0 2 2 3 2 0 0 2 0 0 0 3 3 3 0 0 3 3 1 2\n",
      " 2 0 2 0 2 2 1 3 2 1 1 1 0 2 2 3 1 0 2 3 0 2 0 0 0 2 3 0 2 3 2 1 1 3 3 0 0\n",
      " 0 3 3 2 1 2 1 0 2 3 3 1 3 0 1 2 1 3 1 1 1 0 3 0 3 0 1 2 3 3 1 3 2 0 3 2 0\n",
      " 3 3 1 1 1 3 0 0 1 2 1 3 2 2 0 1 2 0 0 2 2 1 1 1 2 0 1 0 2 2 1 3 3 0 1 3 2\n",
      " 2 0 1 2 1 2 2 3 3 0 3 1 1 2 2 0 2 1 1]\n"
     ]
    }
   ],
   "source": [
    "ypred_m1_svc2=m1_svc.predict(x_test)\n",
    "print(ypred_m1_svc2)"
   ]
  },
  {
   "cell_type": "code",
   "execution_count": 94,
   "id": "a6b988b0",
   "metadata": {},
   "outputs": [
    {
     "name": "stdout",
     "output_type": "stream",
     "text": [
      "[[120   0   0   0]\n",
      " [  1 125   0   0]\n",
      " [  0   4 105   5]\n",
      " [  0   0   1 139]]\n",
      "              precision    recall  f1-score   support\n",
      "\n",
      "           0       0.99      1.00      1.00       120\n",
      "           1       0.97      0.99      0.98       126\n",
      "           2       0.99      0.92      0.95       114\n",
      "           3       0.97      0.99      0.98       140\n",
      "\n",
      "    accuracy                           0.98       500\n",
      "   macro avg       0.98      0.98      0.98       500\n",
      "weighted avg       0.98      0.98      0.98       500\n",
      "\n"
     ]
    }
   ],
   "source": [
    "print(confusion_matrix(y_test,ypred_m1_svc2))\n",
    "print(classification_report(y_test,ypred_m1_svc2))"
   ]
  },
  {
   "cell_type": "markdown",
   "id": "7382e24b",
   "metadata": {},
   "source": [
    "#### SVM model(rbf kernel) have an accuracy of 98%"
   ]
  },
  {
   "cell_type": "markdown",
   "id": "27fe3145",
   "metadata": {},
   "source": [
    "### Model 4(Decision Tree classifier Model)"
   ]
  },
  {
   "cell_type": "code",
   "execution_count": 97,
   "id": "e6d8b87b",
   "metadata": {},
   "outputs": [],
   "source": [
    "from sklearn.tree import DecisionTreeClassifier"
   ]
  },
  {
   "cell_type": "code",
   "execution_count": 99,
   "id": "f77da1fe",
   "metadata": {},
   "outputs": [
    {
     "data": {
      "text/plain": [
       "DecisionTreeClassifier()"
      ]
     },
     "execution_count": 99,
     "metadata": {},
     "output_type": "execute_result"
    }
   ],
   "source": [
    "m1_dtc=DecisionTreeClassifier()\n",
    "m1_dtc.fit(x_train,y_train)"
   ]
  },
  {
   "cell_type": "code",
   "execution_count": 100,
   "id": "d0496c89",
   "metadata": {},
   "outputs": [
    {
     "name": "stdout",
     "output_type": "stream",
     "text": [
      "train score:  1.0\n",
      "Test score:  0.834\n"
     ]
    }
   ],
   "source": [
    "print('train score: ',m1_dtc.score(x_train,y_train))\n",
    "print('Test score: ',m1_dtc.score(x_test,y_test))"
   ]
  },
  {
   "cell_type": "code",
   "execution_count": 101,
   "id": "dd56bd8d",
   "metadata": {},
   "outputs": [
    {
     "name": "stdout",
     "output_type": "stream",
     "text": [
      "[3 0 1 1 2 1 3 3 2 1 2 0 1 0 2 1 0 2 3 1 3 0 2 0 3 2 1 1 0 0 3 0 1 2 1 3 2\n",
      " 3 2 3 1 1 2 0 3 3 1 0 3 3 3 0 3 2 0 2 3 1 2 0 0 3 1 0 1 0 0 1 3 0 1 0 2 3\n",
      " 1 2 2 1 3 3 0 3 0 1 3 3 3 0 0 3 3 3 2 1 1 3 2 0 3 0 3 1 0 0 3 0 3 2 0 2 2\n",
      " 1 0 1 2 3 0 0 2 1 1 3 2 3 2 1 3 2 1 0 3 2 2 0 0 1 0 1 3 3 2 2 2 2 1 1 0 2\n",
      " 3 3 0 1 3 0 3 3 3 2 1 2 2 3 3 1 2 0 2 0 1 2 3 3 1 0 3 2 0 2 0 2 1 0 2 2 2\n",
      " 1 2 3 1 1 1 1 1 3 0 0 1 3 2 2 1 3 3 0 3 0 0 2 1 1 1 1 3 3 3 3 0 1 3 3 3 2\n",
      " 1 1 3 0 3 3 2 3 3 1 3 2 2 0 0 3 3 2 0 2 0 3 1 3 0 1 3 0 1 0 3 2 0 2 3 0 1\n",
      " 0 0 1 0 1 2 3 3 2 2 1 1 1 2 3 1 3 2 2 2 3 1 2 0 2 0 2 2 3 2 1 1 2 2 2 3 0\n",
      " 0 0 1 1 3 1 0 1 1 1 2 3 0 1 3 0 2 2 2 0 1 2 0 1 3 1 0 2 1 3 0 1 3 2 3 3 3\n",
      " 3 3 2 2 2 1 2 0 1 0 1 0 3 3 2 1 2 0 2 2 3 2 0 0 2 0 0 0 3 2 2 0 0 3 3 1 3\n",
      " 2 0 1 0 1 3 1 3 2 1 1 2 0 2 2 3 2 0 2 2 0 1 0 0 0 2 3 0 2 3 2 0 1 3 3 0 0\n",
      " 0 3 3 2 1 3 1 0 2 3 3 1 3 0 2 2 2 2 1 1 1 0 2 0 3 0 1 2 3 3 1 3 2 0 3 1 0\n",
      " 3 3 1 1 1 3 0 0 1 2 1 3 3 2 0 1 2 0 0 2 2 1 2 1 2 0 1 0 2 2 1 3 3 0 1 3 3\n",
      " 2 0 1 2 1 2 2 3 3 0 3 2 2 2 2 0 3 2 1]\n"
     ]
    }
   ],
   "source": [
    "ypred_m1_dtc=m1_dtc.predict(x_test)\n",
    "print(ypred_m1_dtc)"
   ]
  },
  {
   "cell_type": "code",
   "execution_count": 102,
   "id": "a0e7fab0",
   "metadata": {},
   "outputs": [
    {
     "name": "stdout",
     "output_type": "stream",
     "text": [
      "[[111   9   0   0]\n",
      " [  8  96  22   0]\n",
      " [  0  12  89  13]\n",
      " [  0   0  19 121]]\n",
      "              precision    recall  f1-score   support\n",
      "\n",
      "           0       0.93      0.93      0.93       120\n",
      "           1       0.82      0.76      0.79       126\n",
      "           2       0.68      0.78      0.73       114\n",
      "           3       0.90      0.86      0.88       140\n",
      "\n",
      "    accuracy                           0.83       500\n",
      "   macro avg       0.84      0.83      0.83       500\n",
      "weighted avg       0.84      0.83      0.84       500\n",
      "\n"
     ]
    }
   ],
   "source": [
    "print(confusion_matrix(y_test,ypred_m1_dtc))\n",
    "print(classification_report(y_test,ypred_m1_dtc))"
   ]
  },
  {
   "cell_type": "markdown",
   "id": "49eaa924",
   "metadata": {},
   "source": [
    "#### Decision Tree Classifier Model have an accuracy of 83%"
   ]
  },
  {
   "cell_type": "markdown",
   "id": "9905f925",
   "metadata": {},
   "source": [
    "### Model 4(Random Forest Classifier Model)"
   ]
  },
  {
   "cell_type": "code",
   "execution_count": 103,
   "id": "6b865406",
   "metadata": {},
   "outputs": [],
   "source": [
    "from sklearn.ensemble import RandomForestClassifier"
   ]
  },
  {
   "cell_type": "code",
   "execution_count": 112,
   "id": "102db2fa",
   "metadata": {},
   "outputs": [
    {
     "data": {
      "text/plain": [
       "RandomForestClassifier()"
      ]
     },
     "execution_count": 112,
     "metadata": {},
     "output_type": "execute_result"
    }
   ],
   "source": [
    "m1_rfc=RandomForestClassifier(n_estimators=100)\n",
    "m1_rfc.fit(x_train,y_train)"
   ]
  },
  {
   "cell_type": "code",
   "execution_count": 113,
   "id": "5628a0ac",
   "metadata": {},
   "outputs": [
    {
     "name": "stdout",
     "output_type": "stream",
     "text": [
      "train score:  1.0\n",
      "Test score:  0.86\n"
     ]
    }
   ],
   "source": [
    "print('train score: ',m1_rfc.score(x_train,y_train))\n",
    "print('Test score: ',m1_rfc.score(x_test,y_test))"
   ]
  },
  {
   "cell_type": "code",
   "execution_count": 114,
   "id": "7135b380",
   "metadata": {},
   "outputs": [
    {
     "name": "stdout",
     "output_type": "stream",
     "text": [
      "[2 0 1 1 2 1 3 3 2 1 1 0 2 0 2 1 0 2 3 1 3 0 3 0 3 3 1 0 0 0 3 0 2 2 1 3 1\n",
      " 2 2 2 1 1 2 0 3 3 1 0 3 3 2 0 3 1 0 2 3 1 1 0 0 3 1 0 1 0 0 1 3 0 1 0 2 3\n",
      " 1 2 1 1 3 3 0 3 0 0 2 3 3 0 0 3 3 3 2 1 1 3 2 0 3 0 2 1 0 0 3 0 3 1 1 2 3\n",
      " 2 0 1 2 3 0 1 2 1 1 3 2 3 2 1 3 2 1 1 3 2 2 0 0 1 0 1 3 3 1 2 2 2 1 1 0 3\n",
      " 3 2 0 1 3 0 3 3 3 2 1 2 2 3 3 1 1 0 2 0 1 1 3 3 1 0 2 2 0 3 0 3 2 0 2 3 2\n",
      " 2 2 3 1 1 1 1 1 3 0 0 0 3 2 1 0 3 3 0 3 1 0 2 1 1 1 0 3 3 3 3 0 0 3 3 3 2\n",
      " 1 1 3 0 2 3 2 3 3 1 3 2 2 0 0 3 3 1 0 1 0 3 1 2 0 1 3 0 0 0 3 2 0 2 3 0 0\n",
      " 0 0 1 0 1 2 3 3 2 2 1 1 1 2 3 1 3 1 3 2 3 2 2 0 2 0 2 2 3 2 2 1 2 3 3 3 0\n",
      " 0 1 2 1 3 1 1 1 1 1 1 3 0 0 3 0 3 2 3 0 1 2 0 1 3 1 0 2 2 3 0 1 3 1 3 3 3\n",
      " 3 3 2 3 2 1 2 0 1 0 1 0 3 3 2 1 2 0 2 2 3 2 0 0 2 0 0 0 2 2 3 0 0 3 3 1 3\n",
      " 2 0 1 0 2 2 1 3 2 1 1 1 0 2 2 3 1 0 2 3 0 2 0 0 0 2 3 0 2 3 2 1 2 3 3 0 0\n",
      " 0 3 3 2 1 3 1 0 2 3 3 1 3 0 1 2 1 3 1 1 1 0 2 0 3 0 1 2 3 3 1 3 2 0 3 1 0\n",
      " 3 3 1 1 1 3 0 0 1 2 1 3 2 2 0 1 2 0 0 1 2 1 2 2 2 0 1 0 2 2 1 3 3 0 1 3 2\n",
      " 2 0 1 2 1 2 1 3 3 0 3 1 2 3 2 0 3 1 1]\n"
     ]
    }
   ],
   "source": [
    "ypred_m1_rfc=m1_rfc.predict(x_test)\n",
    "print(ypred_m1_rfc)"
   ]
  },
  {
   "cell_type": "code",
   "execution_count": 115,
   "id": "35cc0b34",
   "metadata": {},
   "outputs": [
    {
     "name": "stdout",
     "output_type": "stream",
     "text": [
      "[[114   6   0   0]\n",
      " [  7 104  15   0]\n",
      " [  0  15  87  12]\n",
      " [  0   0  15 125]]\n",
      "              precision    recall  f1-score   support\n",
      "\n",
      "           0       0.94      0.95      0.95       120\n",
      "           1       0.83      0.83      0.83       126\n",
      "           2       0.74      0.76      0.75       114\n",
      "           3       0.91      0.89      0.90       140\n",
      "\n",
      "    accuracy                           0.86       500\n",
      "   macro avg       0.86      0.86      0.86       500\n",
      "weighted avg       0.86      0.86      0.86       500\n",
      "\n"
     ]
    }
   ],
   "source": [
    "print(confusion_matrix(y_test,ypred_m1_rfc))\n",
    "print(classification_report(y_test,ypred_m1_rfc))"
   ]
  },
  {
   "cell_type": "markdown",
   "id": "22633cdb",
   "metadata": {},
   "source": [
    "#### Random forest classifier have an accuracy of 86%"
   ]
  },
  {
   "cell_type": "markdown",
   "id": "6576178f",
   "metadata": {},
   "source": [
    "## Model with the best accuracy is - Support Vector Machine(SVM) Model with an accuracy of 98%"
   ]
  }
 ],
 "metadata": {
  "kernelspec": {
   "display_name": "Python 3 (ipykernel)",
   "language": "python",
   "name": "python3"
  },
  "language_info": {
   "codemirror_mode": {
    "name": "ipython",
    "version": 3
   },
   "file_extension": ".py",
   "mimetype": "text/x-python",
   "name": "python",
   "nbconvert_exporter": "python",
   "pygments_lexer": "ipython3",
   "version": "3.9.13"
  }
 },
 "nbformat": 4,
 "nbformat_minor": 5
}
